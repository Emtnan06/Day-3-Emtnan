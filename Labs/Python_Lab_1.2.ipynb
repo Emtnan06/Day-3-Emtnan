{
 "cells": [
  {
   "cell_type": "markdown",
   "metadata": {},
   "source": [
    "# Python_Lab_1.2"
   ]
  },
  {
   "cell_type": "markdown",
   "metadata": {},
   "source": [
    "### Task 1: \n",
    "1. Create a tuple with the following details:\n",
    "    - Your favorite movie (string)\n",
    "    - The year it was released (integer)\n",
    "    - Its rating out of 10 (float)\n",
    "    - Whether you have watched it (boolean)\n",
    "2. Print the detailes"
   ]
  },
  {
   "cell_type": "code",
   "execution_count": 3,
   "metadata": {},
   "outputs": [
    {
     "name": "stdout",
     "output_type": "stream",
     "text": [
      "Movie name: movie\n",
      "Release year: 2008\n",
      "Rating: 7.8 out of 10\n",
      "did you watched it ? yes it was intresting!\n"
     ]
    }
   ],
   "source": [
    "\n",
    "favorite_movie = (\"movie\", 2008, 7.8, True)\n",
    "\n",
    "\n",
    "\n",
    "print(f\"Movie name: {favorite_movie[0]}\")\n",
    "print(f\"Release year: {favorite_movie[1]}\")\n",
    "print(f\"Rating: {favorite_movie[2]} out of 10\")\n",
    "print(f\"did you watched it ? {'Yes it was intresting!' if favorite_movie[3] else 'Not yet '}\")\n"
   ]
  },
  {
   "cell_type": "markdown",
   "metadata": {},
   "source": [
    "### Task 2:\n",
    "1. Create a set of 5 favorite colors.\n",
    "2. Print all the colors"
   ]
  },
  {
   "cell_type": "code",
   "execution_count": 5,
   "metadata": {},
   "outputs": [
    {
     "name": "stdout",
     "output_type": "stream",
     "text": [
      "My favorite colors are:\n",
      "black\n",
      "pink\n",
      "red\n",
      "white\n",
      "blue\n"
     ]
    }
   ],
   "source": [
    "\n",
    "favorite_colors = {\"blue\", \"pink\", \"red\", \"black\", \"white\"}\n",
    "\n",
    "\n",
    "print(\"My favorite colors are:\")\n",
    "for color in favorite_colors:\n",
    "    print(color)\n"
   ]
  },
  {
   "cell_type": "markdown",
   "metadata": {},
   "source": [
    "### Task 3:\n",
    "1. Create a dictionary to store information about 3 friends (name as key and a tuple with age and favorite hobby as value).\n",
    "2. Print the details of all friends."
   ]
  },
  {
   "cell_type": "code",
   "execution_count": 7,
   "metadata": {},
   "outputs": [
    {
     "name": "stdout",
     "output_type": "stream",
     "text": [
      "Details of my friends:\n",
      "Name: Ghadah\n",
      "  Age: 22\n",
      "  Favorite Hobby: cooking\n",
      "Name: Danah\n",
      "  Age: 25\n",
      "  Favorite Hobby: reading book\n",
      "Name: Jood\n",
      "  Age: 19\n",
      "  Favorite Hobby: gaming\n"
     ]
    }
   ],
   "source": [
    "\n",
    "friends_info = {\n",
    "    \"Ghadah\": (22, \"cooking\"),\n",
    "    \"Danah\": (25, \"reading book\"),\n",
    "    \"Jood\": (19, \"gaming\")\n",
    "}\n",
    "\n",
    "\n",
    "print(\"Details of my friends:\")\n",
    "for key, value in friends_info.items():\n",
    "    print(f\"Name: {key}\")\n",
    "    print(f\"  Age: {value[0]}\")\n",
    "    print(f\"  Favorite Hobby: {value[1]}\")\n",
    "\n"
   ]
  },
  {
   "cell_type": "markdown",
   "metadata": {},
   "source": [
    "### Task 4:\n",
    "1. Check if you have watched the movie and print an appropriate message.\n",
    "1. Check if a specific color is in your favorite colors set and print its availability status."
   ]
  },
  {
   "cell_type": "code",
   "execution_count": 8,
   "metadata": {},
   "outputs": [
    {
     "name": "stdout",
     "output_type": "stream",
     "text": [
      "I've watched the movie 'movie\n"
     ]
    }
   ],
   "source": [
    "# Part 1\n",
    "favorite_movie = (\"movie\", 2008, 7.8, True)\n",
    "\n",
    "if favorite_movie[3]:\n",
    "    print(f\"I've watched the movie '{favorite_movie[0]}\")\n",
    "else:\n",
    "    print(f\"I haven't watched the movie '{favorite_movie[0]}'\")\n"
   ]
  },
  {
   "cell_type": "code",
   "execution_count": 9,
   "metadata": {},
   "outputs": [
    {
     "name": "stdout",
     "output_type": "stream",
     "text": [
      "The color 'purple' is not of my favorite colors.\n"
     ]
    }
   ],
   "source": [
    "# Part 2\n",
    "\n",
    "favorite_colors = {\"blue\", \"pink\", \"red\", \"black\", \"white\"}\n",
    "color = \"purple\"\n",
    "\n",
    "if color in favorite_colors:\n",
    "    print(f\" I like this '{color}'\")\n",
    "else:\n",
    "    print(f\"The color '{color}' is not of my favorite colors.\")"
   ]
  },
  {
   "cell_type": "markdown",
   "metadata": {},
   "source": []
  }
 ],
 "metadata": {
  "kernelspec": {
   "display_name": "Python 3",
   "language": "python",
   "name": "python3"
  },
  "language_info": {
   "codemirror_mode": {
    "name": "ipython",
    "version": 3
   },
   "file_extension": ".py",
   "mimetype": "text/x-python",
   "name": "python",
   "nbconvert_exporter": "python",
   "pygments_lexer": "ipython3",
   "version": "3.9.6"
  }
 },
 "nbformat": 4,
 "nbformat_minor": 2
}
